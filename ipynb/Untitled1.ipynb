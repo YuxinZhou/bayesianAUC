{
 "cells": [
  {
   "cell_type": "code",
   "execution_count": 21,
   "metadata": {
    "collapsed": false
   },
   "outputs": [
    {
     "name": "stdout",
     "output_type": "stream",
     "text": [
      "Applied logodds-transform to p and added transformed p_logodds to model.\n",
      "Applied logodds-transform to p2 and added transformed p2_logodds to model.\n",
      " [-----------------100%-----------------] 20000 of 20000 complete in 5.0 sec"
     ]
    }
   ],
   "source": [
    "import numpy as np\n",
    "import matplotlib.pyplot as plt\n",
    "import pymc3 as pm\n",
    "from sklearn.cross_validation import train_test_split\n",
    "from sklearn.preprocessing import StandardScaler\n",
    "from sklearn.datasets import make_moons, make_circles, make_classification\n",
    "from sklearn.svm import SVC\n",
    "from sklearn.metrics import roc_auc_score, roc_curve\n",
    "from scipy.stats import rankdata\n",
    "# import theano.tensor as T \n",
    "# from theano.compile.ops import as_op\n",
    "%matplotlib inline\n",
    "\n",
    "colors = ['#348ABD', '#A60628', '#7A68A6', '#467821', '#D55E00', \n",
    "          '#CC79A7', '#56B4E9', '#009E73', '#F0E442', '#0072B2']\n",
    "\n",
    "name = \"Linear SVM\"\n",
    "\n",
    "clf = SVC(kernel=\"linear\", C=0.025)\n",
    "\n",
    "X, y = make_classification(n_features=2, n_redundant=0, n_informative=2,\n",
    "                           random_state=1, n_clusters_per_class=1)\n",
    "rng = np.random.RandomState(2)\n",
    "X += 2 * rng.uniform(size=X.shape)\n",
    "X = StandardScaler().fit_transform(X)\n",
    "X_train, X_test, y_train, y_test = train_test_split(X, y, test_size=.4)\n",
    "\n",
    "pair_list = [(0,1),(1,2),(0,2)]\n",
    "for pair,i in zip(pair_list,range(3)):\n",
    "\n",
    "    clf.fit(X_train,y_train)\n",
    "    y_score = clf.decision_function(X_test)\n",
    "    pos_score = y_score[y_test==1]\n",
    "    neg_score = y_score[y_test==0]\n",
    "    alldata = np.concatenate((pos_score , neg_score))\n",
    "    ranked = rankdata(alldata)\n",
    "    m1 = len(pos_score)\n",
    "    m2 = len(neg_score)\n",
    "    pos_rank = ranked[:m1]\n",
    "    neg_rank = ranked[m1:]\n",
    "    s = np.sum(pos_rank,axis=0)\n",
    "    count = s - m1*(m1+1)/2.0\n",
    "\n",
    "    clf = SVC(gamma=2, C=1)\n",
    "    clf.fit(X_train,y_train)\n",
    "    y_score = clf.decision_function(X_test)\n",
    "    pos_score = y_score[y_test==1]\n",
    "    neg_score = y_score[y_test==0]\n",
    "    alldata = np.concatenate((pos_score , neg_score))\n",
    "    ranked = rankdata(alldata)\n",
    "    m1 = len(pos_score)\n",
    "    m2 = len(neg_score)\n",
    "    pos_rank = ranked[:m1]\n",
    "    neg_rank = ranked[m1:]\n",
    "    s2 = np.sum(pos_rank,axis=0)\n",
    "    count2 = s2 - m1*(m1+1)/2.0\n",
    "\n",
    "@as_op(itypes=[T.dscalar,T.dscalar], otypes=[T.dscalar])\n",
    "def delta(v1,v2):\n",
    "    return (v1-v2)\n",
    "\n",
    "# Binomal-Beta Conjugate\n",
    "sample = 20000\n",
    "with pm.Model() as model:\n",
    "    p = pm.Beta('p',alpha=1,beta=1)\n",
    "    n = pm.Binomial('n',n=m1*m2,p=p,observed=count)\n",
    "    p2 = pm.Beta('p2',alpha=1,beta=1)\n",
    "    n2 = pm.Binomial('n2',n=m1*m2,p=p2,observed=count2)\n",
    "    d  = delta(p,p2)\n",
    "    start = pm.find_MAP()\n",
    "    step = pm.Metropolis()\n",
    "    trace = pm.sample(sample, step, start=start, progressbar=True)\n"
   ]
  },
  {
   "cell_type": "code",
   "execution_count": 22,
   "metadata": {
    "collapsed": false
   },
   "outputs": [
    {
     "data": {
      "image/png": "[encoded data removed]",
      "text/plain": [
       "<matplotlib.figure.Figure at 0x7fdf456c8290>"
      ]
     },
     "metadata": {},
     "output_type": "display_data"
    }
   ],
   "source": [
    "import seaborn.apionly as sns\n",
    "import matplotlib.pyplot as plt\n",
    "import matplotlib.patches as patches\n",
    "\n",
    "sns.set_style('ticks')\n",
    "colors = ['#348ABD', '#A60628', '#7A68A6', '#467821', '#D55E00', \n",
    "          '#CC79A7', '#56B4E9', '#009E73', '#F0E442', '#0072B2']\n",
    "delta = trace['p']-trace['p2']\n",
    "lower_limits = np.round(np.sort(delta)[int(0.025 * sample)],decimals=3)\n",
    "upper_limits = np.round(np.sort(delta)[int(0.975 * sample)],decimals=3)\n",
    "ax = plt.subplot()\n",
    "vlines_height = 70\n",
    "_ = ax.hlines(0.1, lower_limits, upper_limits, label=\"95% credible region\",\n",
    "           color=colors[1], linewidths=4)\n",
    "_ = ax.set_ylim(0,70)\n",
    "_ = ax.hlines(0.1, -0.01, 0.01, label='ROPE = [-0.01,0.01]',\n",
    "           color=colors[0], linewidths=4)\n",
    "_ = ax.add_patch(patches.Rectangle((-0.01,0.1),0.02,70,color=colors[9],alpha = 0.1,))\n",
    "_ = ax.vlines(lower_limits,  0.1, vlines_height, label=\"lower limits = {0:0.3f}\".format(lower_limits),\n",
    "           linestyles=\"-.\", color=colors[1], linewidths=1)\n",
    "_ = ax.vlines(upper_limits,  0.1, vlines_height, label=\"upper limits = {0:0.3f}\".format(upper_limits),\n",
    "           linestyles=\"-.\", color=colors[1], linewidths=1)\n",
    "_ = ax.legend()\n",
    "_ = ax.set_title()\n",
    "sns.distplot(delta,bins=20,color=colors[0],hist_kws={\"histtype\": \"stepfilled\"})\n",
    "plt.show()"
   ]
  },
  {
   "cell_type": "code",
   "execution_count": 28,
   "metadata": {
    "collapsed": false
   },
   "outputs": [
    {
     "name": "stdout",
     "output_type": "stream",
     "text": [
      "0\n",
      "1\n",
      "0\n"
     ]
    }
   ],
   "source": [
    "pair_list = [(0,1),(1,2),(0,2)]\n",
    "for pair,i in zip(pair_list,range(3)):\n",
    "    print pair[0]"
   ]
  }
 ],
 "metadata": {
  "anaconda-cloud": {},
  "kernelspec": {
   "display_name": "Python [default]",
   "language": "python",
   "name": "python2"
  },
  "language_info": {
   "codemirror_mode": {
    "name": "ipython",
    "version": 2
   },
   "file_extension": ".py",
   "mimetype": "text/x-python",
   "name": "python",
   "nbconvert_exporter": "python",
   "pygments_lexer": "ipython2",
   "version": "2.7.12"
  }
 },
 "nbformat": 4,
 "nbformat_minor": 0
}
